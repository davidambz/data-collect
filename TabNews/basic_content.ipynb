{
 "cells": [
  {
   "cell_type": "code",
   "execution_count": 15,
   "metadata": {},
   "outputs": [],
   "source": [
    "import datetime\n",
    "import json\n",
    "import time\n",
    "\n",
    "import pandas as pd\n",
    "import requests"
   ]
  },
  {
   "cell_type": "code",
   "execution_count": 16,
   "metadata": {},
   "outputs": [],
   "source": [
    "def get_response(**kwargs):\n",
    "    url = \"https://www.tabnews.com.br/api/v1/contents/\"\n",
    "    resp = requests.get(url, params=kwargs)\n",
    "    return resp\n",
    "\n",
    "\n",
    "def save_data(data, option='json'):\n",
    "    now = datetime.datetime.now().strftime(\"%Y%m%d_%H%M%S.%f\")\n",
    "    \n",
    "    if option == 'json':\n",
    "        with open(f\"data/contents/json/{now}.json\", 'w') as open_file:\n",
    "            json.dump(data, open_file, indent=4)\n",
    "\n",
    "    elif option == 'parquet':\n",
    "        df = pd.DataFrame(data)\n",
    "        df.to_parquet(f\"data/contents/parquet/{now}.parquet\", index=False)"
   ]
  },
  {
   "cell_type": "code",
   "execution_count": 17,
   "metadata": {},
   "outputs": [
    {
     "name": "stdout",
     "output_type": "stream",
     "text": [
      "1\n",
      "2\n",
      "3\n",
      "4\n",
      "5\n",
      "6\n",
      "7\n",
      "8\n",
      "9\n",
      "10\n",
      "11\n",
      "12\n",
      "13\n",
      "14\n",
      "15\n",
      "16\n",
      "17\n",
      "18\n",
      "19\n",
      "20\n",
      "21\n",
      "22\n"
     ]
    }
   ],
   "source": [
    "page = 1\n",
    "date_stop = pd.to_datetime('2024-03-01').date()\n",
    "while True:\n",
    "    print(page)\n",
    "    \n",
    "    resp = get_response(page=page, per_page=100, strategy=\"new\")\n",
    "    if resp.status_code == 200:\n",
    "        data = resp.json()\n",
    "        save_data(data)\n",
    "\n",
    "        date = pd.to_datetime(data[-1][\"updated_at\"]).date()\n",
    "        if len(data) < 100 or date < date_stop:\n",
    "            break\n",
    "        \n",
    "        page += 1\n",
    "        time.sleep(5)\n",
    "    \n",
    "    else:\n",
    "        print(resp.status_code)\n",
    "        print(resp.json())\n",
    "        time.sleep(60 * 15)"
   ]
  }
 ],
 "metadata": {
  "kernelspec": {
   "display_name": "data-collect-NGGV2PaC-py3.12",
   "language": "python",
   "name": "python3"
  },
  "language_info": {
   "codemirror_mode": {
    "name": "ipython",
    "version": 3
   },
   "file_extension": ".py",
   "mimetype": "text/x-python",
   "name": "python",
   "nbconvert_exporter": "python",
   "pygments_lexer": "ipython3",
   "version": "3.12.4"
  }
 },
 "nbformat": 4,
 "nbformat_minor": 2
}
