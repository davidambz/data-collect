{
 "cells": [
  {
   "cell_type": "code",
   "execution_count": 13,
   "metadata": {},
   "outputs": [],
   "source": [
    "import requests\n",
    "from bs4 import BeautifulSoup\n",
    "from tqdm import tqdm\n",
    "import pandas as pd\n",
    "\n",
    "headers = {\n",
    "        'accept': 'text/html,application/xhtml+xml,application/xml;q=0.9,image/avif,image/webp,image/apng,*/*;q=0.8,application/signed-exchange;v=b3;q=0.7',\n",
    "        'accept-language': 'pt-BR,pt;q=0.9',\n",
    "        'cache-control': 'max-age=0',\n",
    "        'referer': 'https://www.residentevildatabase.com/personagens/',\n",
    "        'sec-ch-ua': '\"Google Chrome\";v=\"123\", \"Not:A-Brand\";v=\"8\", \"Chromium\";v=\"123\"',\n",
    "        'sec-ch-ua-mobile': '?0',\n",
    "        'sec-ch-ua-platform': '\"Linux\"',\n",
    "        'sec-fetch-dest': 'document',\n",
    "        'sec-fetch-mode': 'navigate',\n",
    "        'sec-fetch-site': 'same-origin',\n",
    "        'sec-fetch-user': '?1',\n",
    "        'upgrade-insecure-requests': '1',\n",
    "        'user-agent': 'Mozilla/5.0 (X11; Linux x86_64) AppleWebKit/537.36 (KHTML, like Gecko) Chrome/123.0.0.0 Safari/537.36',\n",
    "    }\n",
    "\n",
    "def get_content(url):    \n",
    "    resp = requests.get(url, headers=headers)\n",
    "    return resp\n",
    "\n",
    "\n",
    "def get_basic_infos(soup):\n",
    "    div_page = soup.find(\"div\", class_ =\"td-page-content\")\n",
    "    paragrafo = div_page.find_all(\"p\")[1]\n",
    "    ems = paragrafo.find_all(\"em\")\n",
    "    data = {}\n",
    "    for i in ems:\n",
    "        chave, valor, *_ = i.text.split(\":\")\n",
    "        chave = chave.strip(\" \")\n",
    "        data[chave] = valor.strip(\" \")\n",
    "\n",
    "    return data\n",
    "\n",
    "\n",
    "def get_aparicoes(soup):\n",
    "    lis = (soup.find(\"div\", class_ =\"td-page-content\")\n",
    "               .find(\"h4\")\n",
    "               .find_next()\n",
    "               .find_all(\"li\"))\n",
    "\n",
    "    aparicoes = [i.text for i in lis]\n",
    "    return aparicoes\n",
    "\n",
    "\n",
    "def get_personagem_infos(url):\n",
    "    \n",
    "    resp = get_content(url)\n",
    "    if resp.status_code != 200:\n",
    "        print(\"Não foi possível obter os dados\")\n",
    "        return {}\n",
    "\n",
    "    else:\n",
    "        soup = BeautifulSoup(resp.text)\n",
    "        data = get_basic_infos(soup)\n",
    "        data[\"Aparicoes\"] = get_aparicoes(soup)\n",
    "        return data\n",
    "\n",
    "\n",
    "def get_links():\n",
    "    url = \"https://www.residentevildatabase.com/personagens/\"\n",
    "    resp = requests.get(url, headers=headers)\n",
    "    soup_personagens = BeautifulSoup(resp.text)\n",
    "    ancoras = (soup_personagens.find(\"div\", class_=\"td-page-content\")\n",
    "                               .find_all(\"a\"))\n",
    "\n",
    "    links = [i[\"href\"] for i in ancoras]\n",
    "    return links"
   ]
  },
  {
   "cell_type": "code",
   "execution_count": 14,
   "metadata": {},
   "outputs": [
    {
     "name": "stderr",
     "output_type": "stream",
     "text": [
      " 31%|███       | 51/164 [00:14<00:27,  4.05it/s]"
     ]
    },
    {
     "name": "stdout",
     "output_type": "stream",
     "text": [
      "Não foi possível obter os dados\n"
     ]
    },
    {
     "name": "stderr",
     "output_type": "stream",
     "text": [
      "100%|██████████| 164/164 [00:46<00:00,  3.54it/s]\n"
     ]
    }
   ],
   "source": [
    "links = get_links()\n",
    "data = []\n",
    "for i in tqdm(links):\n",
    "    d = get_personagem_infos(i)\n",
    "    d[\"Link\"] = i\n",
    "    nome = i.strip(\"/\").split(\"/\")[-1].replace(\"-\", \" \").title()\n",
    "    d[\"Nome\"] = nome\n",
    "    data.append(d)"
   ]
  },
  {
   "cell_type": "code",
   "execution_count": 15,
   "metadata": {},
   "outputs": [],
   "source": [
    "df = pd.DataFrame(data)\n",
    "df.to_parquet(\"dados_re.parquet\", index=False)\n",
    "df.to_pickle(\"dados_re.pkl\")"
   ]
  }
 ],
 "metadata": {
  "kernelspec": {
   "display_name": "data-collect-NGGV2PaC-py3.12",
   "language": "python",
   "name": "python3"
  },
  "language_info": {
   "codemirror_mode": {
    "name": "ipython",
    "version": 3
   },
   "file_extension": ".py",
   "mimetype": "text/x-python",
   "name": "python",
   "nbconvert_exporter": "python",
   "pygments_lexer": "ipython3",
   "version": "3.12.4"
  }
 },
 "nbformat": 4,
 "nbformat_minor": 2
}
